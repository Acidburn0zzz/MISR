{
  "nbformat": 4,
  "nbformat_minor": 0,
  "metadata": {
    "colab": {
      "name": "SINTEL_SR.ipynb",
      "provenance": [],
      "collapsed_sections": []
    },
    "kernelspec": {
      "name": "python3",
      "display_name": "Python 3"
    },
    "accelerator": "GPU"
  },
  "cells": [
    {
      "cell_type": "code",
      "metadata": {
        "colab": {
          "base_uri": "https://localhost:8080/"
        },
        "id": "E8NZPw6usUxc",
        "outputId": "9e68b4c1-c4c3-4d72-a67a-3a9e46e86aa5"
      },
      "source": [
        "%pylab inline"
      ],
      "execution_count": null,
      "outputs": [
        {
          "output_type": "stream",
          "text": [
            "Populating the interactive namespace from numpy and matplotlib\n"
          ],
          "name": "stdout"
        }
      ]
    },
    {
      "cell_type": "code",
      "metadata": {
        "id": "lgI7B4vXBN_H",
        "colab": {
          "base_uri": "https://localhost:8080/"
        },
        "outputId": "ebef1160-8df5-4138-ce58-caefc6fa89e3"
      },
      "source": [
        "!nvidia-smi"
      ],
      "execution_count": null,
      "outputs": [
        {
          "output_type": "stream",
          "text": [
            "Tue Dec 22 17:16:06 2020       \n",
            "+-----------------------------------------------------------------------------+\n",
            "| NVIDIA-SMI 460.27.04    Driver Version: 418.67       CUDA Version: 10.1     |\n",
            "|-------------------------------+----------------------+----------------------+\n",
            "| GPU  Name        Persistence-M| Bus-Id        Disp.A | Volatile Uncorr. ECC |\n",
            "| Fan  Temp  Perf  Pwr:Usage/Cap|         Memory-Usage | GPU-Util  Compute M. |\n",
            "|                               |                      |               MIG M. |\n",
            "|===============================+======================+======================|\n",
            "|   0  Tesla T4            Off  | 00000000:00:04.0 Off |                    0 |\n",
            "| N/A   48C    P8    10W /  70W |      0MiB / 15079MiB |      0%      Default |\n",
            "|                               |                      |                 ERR! |\n",
            "+-------------------------------+----------------------+----------------------+\n",
            "                                                                               \n",
            "+-----------------------------------------------------------------------------+\n",
            "| Processes:                                                                  |\n",
            "|  GPU   GI   CI        PID   Type   Process name                  GPU Memory |\n",
            "|        ID   ID                                                   Usage      |\n",
            "|=============================================================================|\n",
            "|  No running processes found                                                 |\n",
            "+-----------------------------------------------------------------------------+\n"
          ],
          "name": "stdout"
        }
      ]
    },
    {
      "cell_type": "code",
      "metadata": {
        "colab": {
          "base_uri": "https://localhost:8080/"
        },
        "id": "7B1anQw9sYQb",
        "outputId": "5195d32d-ad3f-4213-d331-90730a566a94"
      },
      "source": [
        "!pip install gast==0.2.2\r\n",
        "\r\n",
        "try:\r\n",
        "  # %tensorflow_version only exists in Colab.\r\n",
        "  %tensorflow_version 1.x\r\n",
        "except Exception:\r\n",
        "  pass\r\n",
        "\r\n",
        "import tensorflow as tf\r\n",
        "print(tf.__version__)"
      ],
      "execution_count": null,
      "outputs": [
        {
          "output_type": "stream",
          "text": [
            "Collecting gast==0.2.2\n",
            "  Downloading https://files.pythonhosted.org/packages/4e/35/11749bf99b2d4e3cceb4d55ca22590b0d7c2c62b9de38ac4a4a7f4687421/gast-0.2.2.tar.gz\n",
            "Building wheels for collected packages: gast\n",
            "  Building wheel for gast (setup.py) ... \u001b[?25l\u001b[?25hdone\n",
            "  Created wheel for gast: filename=gast-0.2.2-cp36-none-any.whl size=7540 sha256=f606a167805f7ff8a1f1ca7319eebade7b7329104dcfc6fe9ad0fd3d4ce2f8d0\n",
            "  Stored in directory: /root/.cache/pip/wheels/5c/2e/7e/a1d4d4fcebe6c381f378ce7743a3ced3699feb89bcfbdadadd\n",
            "Successfully built gast\n",
            "\u001b[31mERROR: tensorflow 2.4.0 has requirement gast==0.3.3, but you'll have gast 0.2.2 which is incompatible.\u001b[0m\n",
            "\u001b[31mERROR: tensorflow-probability 0.11.0 has requirement gast>=0.3.2, but you'll have gast 0.2.2 which is incompatible.\u001b[0m\n",
            "Installing collected packages: gast\n",
            "  Found existing installation: gast 0.3.3\n",
            "    Uninstalling gast-0.3.3:\n",
            "      Successfully uninstalled gast-0.3.3\n",
            "Successfully installed gast-0.2.2\n",
            "TensorFlow 1.x selected.\n",
            "1.15.2\n"
          ],
          "name": "stdout"
        }
      ]
    },
    {
      "cell_type": "code",
      "metadata": {
        "colab": {
          "base_uri": "https://localhost:8080/"
        },
        "id": "Mk3WCot5synn",
        "outputId": "231b48e9-764d-4592-ddf7-1bd67e993430"
      },
      "source": [
        "from google.colab import drive\r\n",
        "drive.mount('/content/gdrive', force_remount=True)"
      ],
      "execution_count": null,
      "outputs": [
        {
          "output_type": "stream",
          "text": [
            "Mounted at /content/gdrive\n"
          ],
          "name": "stdout"
        }
      ]
    },
    {
      "cell_type": "code",
      "metadata": {
        "id": "S2m1tIk8s1Ld"
      },
      "source": [
        "dataset_file = np.load(\"/content/gdrive/My Drive/SINTEL_SR/dataset2.npz\")"
      ],
      "execution_count": null,
      "outputs": []
    },
    {
      "cell_type": "code",
      "metadata": {
        "id": "BohQQbyzt6eF"
      },
      "source": [
        "dataset_x = dataset_file[\"lr\"].astype(np.float32) / 255\r\n",
        "dataset_y = dataset_file[\"hr\"].astype(np.float32) / 255"
      ],
      "execution_count": null,
      "outputs": []
    },
    {
      "cell_type": "code",
      "metadata": {
        "id": "oLjS0edgu3DY",
        "colab": {
          "base_uri": "https://localhost:8080/"
        },
        "outputId": "5eaeaad4-d9a1-4863-fa16-026e82f3f091"
      },
      "source": [
        "len(dataset_x)"
      ],
      "execution_count": null,
      "outputs": [
        {
          "output_type": "execute_result",
          "data": {
            "text/plain": [
              "880"
            ]
          },
          "metadata": {
            "tags": []
          },
          "execution_count": 7
        }
      ]
    },
    {
      "cell_type": "code",
      "metadata": {
        "id": "TnMqonuOt-de"
      },
      "source": [
        "np.random.seed(42)\r\n",
        "dataset_p = np.random.permutation(len(dataset_x))\r\n",
        "x_train = dataset_x[dataset_p[:-100]]\r\n",
        "y_train = dataset_y[dataset_p[:-100]]\r\n",
        "x_valid = dataset_x[dataset_p[-100:-50]]\r\n",
        "y_valid = dataset_y[dataset_p[-100:-50]]\r\n",
        "x_test = dataset_x[dataset_p[-50:]]\r\n",
        "y_test = dataset_y[dataset_p[-50:]]"
      ],
      "execution_count": null,
      "outputs": []
    },
    {
      "cell_type": "code",
      "metadata": {
        "id": "O2KwoagsuKxn"
      },
      "source": [
        "#Note: Here it would be best to also flip the channels, since they represent a specific translation!\r\n",
        "x_train = np.concatenate([x_train, np.flip(x_train, axis=2)], axis=0)\r\n",
        "y_train = np.concatenate([y_train, np.flip(y_train, axis=2)], axis=0)"
      ],
      "execution_count": null,
      "outputs": []
    },
    {
      "cell_type": "code",
      "metadata": {
        "id": "RXLy9bgSuPE3"
      },
      "source": [
        "dataset_x = None\r\n",
        "dataset_y = None"
      ],
      "execution_count": null,
      "outputs": []
    },
    {
      "cell_type": "code",
      "metadata": {
        "id": "oSaAtf5Avst3",
        "colab": {
          "base_uri": "https://localhost:8080/",
          "height": 211
        },
        "outputId": "1752a131-2e45-4d99-e857-501e72acb38d"
      },
      "source": [
        "plt.imshow(x_train[0,:,:,0])"
      ],
      "execution_count": null,
      "outputs": [
        {
          "output_type": "execute_result",
          "data": {
            "text/plain": [
              "<matplotlib.image.AxesImage at 0x7f5b84f5a400>"
            ]
          },
          "metadata": {
            "tags": []
          },
          "execution_count": 11
        },
        {
          "output_type": "display_data",
          "data": {
            "text/plain": [
              "<Figure size 432x288 with 1 Axes>"
            ]
          },
          "metadata": {
            "tags": [],
            "needs_background": "light"
          }
        }
      ]
    },
    {
      "cell_type": "code",
      "metadata": {
        "id": "YK8HfKGNwqnt"
      },
      "source": [
        "import tensorflow as tf\r\n",
        "import tensorflow.keras\r\n",
        "import tensorflow.keras.backend as K\r\n",
        "\r\n",
        "from tensorflow.keras.models import Model\r\n",
        "from tensorflow.keras.models import Sequential\r\n",
        "\r\n",
        "from tensorflow.keras.layers import Conv2D, UpSampling2D, Conv2DTranspose, SeparableConv2D, DepthwiseConv2D\r\n",
        "from tensorflow.keras.layers import Dense\r\n",
        "from tensorflow.keras.layers import Activation\r\n",
        "from tensorflow.keras.layers import LeakyReLU, ELU, PReLU\r\n",
        "from tensorflow.keras.layers import MaxPool2D, AveragePooling2D, GlobalAveragePooling2D, GlobalMaxPooling2D, ZeroPadding2D, Cropping2D\r\n",
        "from tensorflow.keras.layers import BatchNormalization\r\n",
        "from tensorflow.keras.layers import Input, Flatten, Maximum, Add, Lambda, Reshape, Concatenate\r\n",
        "from tensorflow.keras.layers import Dropout\r\n",
        "\r\n",
        "from tensorflow.keras.initializers import RandomNormal\r\n",
        "\r\n",
        "from tensorflow.keras.activations import tanh\r\n",
        "\r\n",
        "from tensorflow.keras.regularizers import l2\r\n",
        "\r\n",
        "from tensorflow.keras.losses import categorical_crossentropy, mean_squared_error, mean_absolute_error, binary_crossentropy\r\n",
        "from tensorflow.keras.optimizers import SGD\r\n",
        "from tensorflow.keras.optimizers import Adam\r\n",
        "\r\n",
        "class Subpixel2D(tf.keras.layers.Layer):\r\n",
        "    def __init__(self, scale=2, **kwargs):\r\n",
        "        super(Subpixel2D, self).__init__(**kwargs)\r\n",
        "        self.scale = scale\r\n",
        "\r\n",
        "    def build(self, input_shape):\r\n",
        "        super(Subpixel2D, self).build(input_shape)\r\n",
        "\r\n",
        "    def compute_output_shape(self, input_shape):\r\n",
        "        return tuple([input_shape[0],\r\n",
        "                    (input_shape[1] * self.scale) if (input_shape[1] != None) else None,\r\n",
        "                    (input_shape[2] * self.scale) if (input_shape[2] != None) else None,\r\n",
        "                    int(input_shape[3] / (self.scale ** 2))])\r\n",
        "\r\n",
        "    def call(self, x):\r\n",
        "        return tf.depth_to_space(x, self.scale)\r\n",
        "\r\n",
        "class CReLU(tf.keras.layers.Layer):\r\n",
        "    def __init__(self, **kwargs):\r\n",
        "        super(CReLU, self).__init__(**kwargs)\r\n",
        "\r\n",
        "    def build(self, input_shape):\r\n",
        "        super(CReLU, self).build(input_shape)\r\n",
        "\r\n",
        "    def call(self, x):\r\n",
        "        return tf.nn.crelu(x, axis=-1)\r\n",
        "\r\n",
        "def SRNet(input_depth=8, output_depth=1, upscale_factor=4, highway_depth=8, depth=4, regul=0.000):\r\n",
        "    \r\n",
        "    initializer='he_normal'\r\n",
        "    initializer_last = RandomNormal(mean=0.0, stddev=0.001)\r\n",
        "\r\n",
        "    inputs = Input(shape=[None, None, input_depth])\r\n",
        "    inputs_lr = Input(shape=[None, None, output_depth])\r\n",
        "    \r\n",
        "    x = inputs\r\n",
        "\r\n",
        "    depth_list = []\r\n",
        "\r\n",
        "    for i in range(depth):\r\n",
        "        x = Conv2D(highway_depth, (3, 3), padding='same', kernel_regularizer=l2(regul), kernel_initializer=initializer)(x)\r\n",
        "        x = CReLU()(x)\r\n",
        "\r\n",
        "        depth_list.append(x)\r\n",
        "    \r\n",
        "    x = Concatenate(axis=-1)(depth_list)\r\n",
        "    x = Conv2D((highway_depth*upscale_factor*upscale_factor), (1, 1), padding='same', kernel_regularizer=l2(regul), kernel_initializer=initializer)(x)\r\n",
        "    x = Subpixel2D(upscale_factor)(x)\r\n",
        "    x = CReLU()(x)\r\n",
        "\r\n",
        "\r\n",
        "    depth_list = []\r\n",
        "\r\n",
        "    for i in range(depth):\r\n",
        "        x = Conv2D(highway_depth, (3, 3), padding='same', kernel_regularizer=l2(regul), kernel_initializer=initializer)(x)\r\n",
        "        x = CReLU()(x)\r\n",
        "\r\n",
        "        depth_list.append(x)\r\n",
        "    \r\n",
        "    x = Concatenate(axis=-1)(depth_list)\r\n",
        "    x = Conv2D(output_depth, (3, 3), padding='same', kernel_regularizer=l2(regul), kernel_initializer=initializer_last, name=\"conv_ups_resid\")(x)\r\n",
        "\r\n",
        "    x_2 = UpSampling2D(size=(upscale_factor, upscale_factor), interpolation='bilinear')(inputs_lr)\r\n",
        "    x = Add()([x, x_2])\r\n",
        "    \r\n",
        "    model = Model([inputs, inputs_lr], x, name='srnet')\r\n",
        "    model.summary(line_length=150)\r\n",
        "    \r\n",
        "    return model\r\n",
        "\r\n",
        "\r\n",
        "def BIL(input_depth=1, upscale_factor=4):\r\n",
        "  \r\n",
        "    input_shape = [None, None, input_depth]\r\n",
        "    inputs = Input(shape=input_shape)\r\n",
        "    \r\n",
        "    x = inputs\r\n",
        "    x = UpSampling2D(size=(upscale_factor, upscale_factor), interpolation='bilinear')(x)\r\n",
        "    outputs = x\r\n",
        "    \r\n",
        "    bil = Model(inputs, outputs, name='ed_conv')\r\n",
        "    \r\n",
        "    bil.summary()\r\n",
        "    \r\n",
        "    return bil"
      ],
      "execution_count": null,
      "outputs": []
    },
    {
      "cell_type": "code",
      "metadata": {
        "colab": {
          "base_uri": "https://localhost:8080/"
        },
        "id": "dFTwC7HuzG2O",
        "outputId": "f197f5ee-f546-4092-ce64-48627ef6d0d7"
      },
      "source": [
        "K.clear_session()\r\n",
        "K.reset_uids()\r\n",
        "\r\n",
        "sess = tf.Session()\r\n",
        "sess.as_default()\r\n",
        "\r\n",
        "model = SRNet()\r\n",
        "model_s = SRNet(input_depth = 1)\r\n",
        "model_bil = BIL()\r\n",
        "\r\n",
        "loss=tf.keras.losses.mean_squared_error"
      ],
      "execution_count": null,
      "outputs": [
        {
          "output_type": "stream",
          "text": [
            "WARNING:tensorflow:From /tensorflow-1.15.2/python3.6/tensorflow_core/python/keras/initializers.py:143: calling RandomNormal.__init__ (from tensorflow.python.ops.init_ops) with dtype is deprecated and will be removed in a future version.\n",
            "Instructions for updating:\n",
            "Call initializer instance with the dtype argument instead of passing it to the constructor\n",
            "WARNING:tensorflow:From /tensorflow-1.15.2/python3.6/tensorflow_core/python/ops/resource_variable_ops.py:1630: calling BaseResourceVariable.__init__ (from tensorflow.python.ops.resource_variable_ops) with constraint is deprecated and will be removed in a future version.\n",
            "Instructions for updating:\n",
            "If using Keras pass *_constraint arguments to layers.\n",
            "WARNING:tensorflow:From /tensorflow-1.15.2/python3.6/tensorflow_core/python/autograph/converters/directives.py:119: The name tf.depth_to_space is deprecated. Please use tf.compat.v1.depth_to_space instead.\n",
            "\n",
            "Model: \"srnet\"\n",
            "______________________________________________________________________________________________________________________________________________________\n",
            "Layer (type)                                     Output Shape                     Param #           Connected to                                      \n",
            "======================================================================================================================================================\n",
            "input_1 (InputLayer)                             [(None, None, None, 8)]          0                                                                   \n",
            "______________________________________________________________________________________________________________________________________________________\n",
            "conv2d (Conv2D)                                  (None, None, None, 8)            584               input_1[0][0]                                     \n",
            "______________________________________________________________________________________________________________________________________________________\n",
            "c_re_lu (CReLU)                                  (None, None, None, 16)           0                 conv2d[0][0]                                      \n",
            "______________________________________________________________________________________________________________________________________________________\n",
            "conv2d_1 (Conv2D)                                (None, None, None, 8)            1160              c_re_lu[0][0]                                     \n",
            "______________________________________________________________________________________________________________________________________________________\n",
            "c_re_lu_1 (CReLU)                                (None, None, None, 16)           0                 conv2d_1[0][0]                                    \n",
            "______________________________________________________________________________________________________________________________________________________\n",
            "conv2d_2 (Conv2D)                                (None, None, None, 8)            1160              c_re_lu_1[0][0]                                   \n",
            "______________________________________________________________________________________________________________________________________________________\n",
            "c_re_lu_2 (CReLU)                                (None, None, None, 16)           0                 conv2d_2[0][0]                                    \n",
            "______________________________________________________________________________________________________________________________________________________\n",
            "conv2d_3 (Conv2D)                                (None, None, None, 8)            1160              c_re_lu_2[0][0]                                   \n",
            "______________________________________________________________________________________________________________________________________________________\n",
            "c_re_lu_3 (CReLU)                                (None, None, None, 16)           0                 conv2d_3[0][0]                                    \n",
            "______________________________________________________________________________________________________________________________________________________\n",
            "concatenate (Concatenate)                        (None, None, None, 64)           0                 c_re_lu[0][0]                                     \n",
            "                                                                                                    c_re_lu_1[0][0]                                   \n",
            "                                                                                                    c_re_lu_2[0][0]                                   \n",
            "                                                                                                    c_re_lu_3[0][0]                                   \n",
            "______________________________________________________________________________________________________________________________________________________\n",
            "conv2d_4 (Conv2D)                                (None, None, None, 128)          8320              concatenate[0][0]                                 \n",
            "______________________________________________________________________________________________________________________________________________________\n",
            "subpixel2d (Subpixel2D)                          (None, None, None, 8)            0                 conv2d_4[0][0]                                    \n",
            "______________________________________________________________________________________________________________________________________________________\n",
            "c_re_lu_4 (CReLU)                                (None, None, None, 16)           0                 subpixel2d[0][0]                                  \n",
            "______________________________________________________________________________________________________________________________________________________\n",
            "conv2d_5 (Conv2D)                                (None, None, None, 8)            1160              c_re_lu_4[0][0]                                   \n",
            "______________________________________________________________________________________________________________________________________________________\n",
            "c_re_lu_5 (CReLU)                                (None, None, None, 16)           0                 conv2d_5[0][0]                                    \n",
            "______________________________________________________________________________________________________________________________________________________\n",
            "conv2d_6 (Conv2D)                                (None, None, None, 8)            1160              c_re_lu_5[0][0]                                   \n",
            "______________________________________________________________________________________________________________________________________________________\n",
            "c_re_lu_6 (CReLU)                                (None, None, None, 16)           0                 conv2d_6[0][0]                                    \n",
            "______________________________________________________________________________________________________________________________________________________\n",
            "conv2d_7 (Conv2D)                                (None, None, None, 8)            1160              c_re_lu_6[0][0]                                   \n",
            "______________________________________________________________________________________________________________________________________________________\n",
            "c_re_lu_7 (CReLU)                                (None, None, None, 16)           0                 conv2d_7[0][0]                                    \n",
            "______________________________________________________________________________________________________________________________________________________\n",
            "conv2d_8 (Conv2D)                                (None, None, None, 8)            1160              c_re_lu_7[0][0]                                   \n",
            "______________________________________________________________________________________________________________________________________________________\n",
            "c_re_lu_8 (CReLU)                                (None, None, None, 16)           0                 conv2d_8[0][0]                                    \n",
            "______________________________________________________________________________________________________________________________________________________\n",
            "concatenate_1 (Concatenate)                      (None, None, None, 64)           0                 c_re_lu_5[0][0]                                   \n",
            "                                                                                                    c_re_lu_6[0][0]                                   \n",
            "                                                                                                    c_re_lu_7[0][0]                                   \n",
            "                                                                                                    c_re_lu_8[0][0]                                   \n",
            "______________________________________________________________________________________________________________________________________________________\n",
            "input_2 (InputLayer)                             [(None, None, None, 1)]          0                                                                   \n",
            "______________________________________________________________________________________________________________________________________________________\n",
            "conv_ups_resid (Conv2D)                          (None, None, None, 1)            577               concatenate_1[0][0]                               \n",
            "______________________________________________________________________________________________________________________________________________________\n",
            "up_sampling2d (UpSampling2D)                     (None, None, None, 1)            0                 input_2[0][0]                                     \n",
            "______________________________________________________________________________________________________________________________________________________\n",
            "add (Add)                                        (None, None, None, 1)            0                 conv_ups_resid[0][0]                              \n",
            "                                                                                                    up_sampling2d[0][0]                               \n",
            "======================================================================================================================================================\n",
            "Total params: 17,601\n",
            "Trainable params: 17,601\n",
            "Non-trainable params: 0\n",
            "______________________________________________________________________________________________________________________________________________________\n",
            "Model: \"srnet\"\n",
            "______________________________________________________________________________________________________________________________________________________\n",
            "Layer (type)                                     Output Shape                     Param #           Connected to                                      \n",
            "======================================================================================================================================================\n",
            "input_3 (InputLayer)                             [(None, None, None, 1)]          0                                                                   \n",
            "______________________________________________________________________________________________________________________________________________________\n",
            "conv2d_9 (Conv2D)                                (None, None, None, 8)            80                input_3[0][0]                                     \n",
            "______________________________________________________________________________________________________________________________________________________\n",
            "c_re_lu_9 (CReLU)                                (None, None, None, 16)           0                 conv2d_9[0][0]                                    \n",
            "______________________________________________________________________________________________________________________________________________________\n",
            "conv2d_10 (Conv2D)                               (None, None, None, 8)            1160              c_re_lu_9[0][0]                                   \n",
            "______________________________________________________________________________________________________________________________________________________\n",
            "c_re_lu_10 (CReLU)                               (None, None, None, 16)           0                 conv2d_10[0][0]                                   \n",
            "______________________________________________________________________________________________________________________________________________________\n",
            "conv2d_11 (Conv2D)                               (None, None, None, 8)            1160              c_re_lu_10[0][0]                                  \n",
            "______________________________________________________________________________________________________________________________________________________\n",
            "c_re_lu_11 (CReLU)                               (None, None, None, 16)           0                 conv2d_11[0][0]                                   \n",
            "______________________________________________________________________________________________________________________________________________________\n",
            "conv2d_12 (Conv2D)                               (None, None, None, 8)            1160              c_re_lu_11[0][0]                                  \n",
            "______________________________________________________________________________________________________________________________________________________\n",
            "c_re_lu_12 (CReLU)                               (None, None, None, 16)           0                 conv2d_12[0][0]                                   \n",
            "______________________________________________________________________________________________________________________________________________________\n",
            "concatenate_2 (Concatenate)                      (None, None, None, 64)           0                 c_re_lu_9[0][0]                                   \n",
            "                                                                                                    c_re_lu_10[0][0]                                  \n",
            "                                                                                                    c_re_lu_11[0][0]                                  \n",
            "                                                                                                    c_re_lu_12[0][0]                                  \n",
            "______________________________________________________________________________________________________________________________________________________\n",
            "conv2d_13 (Conv2D)                               (None, None, None, 128)          8320              concatenate_2[0][0]                               \n",
            "______________________________________________________________________________________________________________________________________________________\n",
            "subpixel2d_1 (Subpixel2D)                        (None, None, None, 8)            0                 conv2d_13[0][0]                                   \n",
            "______________________________________________________________________________________________________________________________________________________\n",
            "c_re_lu_13 (CReLU)                               (None, None, None, 16)           0                 subpixel2d_1[0][0]                                \n",
            "______________________________________________________________________________________________________________________________________________________\n",
            "conv2d_14 (Conv2D)                               (None, None, None, 8)            1160              c_re_lu_13[0][0]                                  \n",
            "______________________________________________________________________________________________________________________________________________________\n",
            "c_re_lu_14 (CReLU)                               (None, None, None, 16)           0                 conv2d_14[0][0]                                   \n",
            "______________________________________________________________________________________________________________________________________________________\n",
            "conv2d_15 (Conv2D)                               (None, None, None, 8)            1160              c_re_lu_14[0][0]                                  \n",
            "______________________________________________________________________________________________________________________________________________________\n",
            "c_re_lu_15 (CReLU)                               (None, None, None, 16)           0                 conv2d_15[0][0]                                   \n",
            "______________________________________________________________________________________________________________________________________________________\n",
            "conv2d_16 (Conv2D)                               (None, None, None, 8)            1160              c_re_lu_15[0][0]                                  \n",
            "______________________________________________________________________________________________________________________________________________________\n",
            "c_re_lu_16 (CReLU)                               (None, None, None, 16)           0                 conv2d_16[0][0]                                   \n",
            "______________________________________________________________________________________________________________________________________________________\n",
            "conv2d_17 (Conv2D)                               (None, None, None, 8)            1160              c_re_lu_16[0][0]                                  \n",
            "______________________________________________________________________________________________________________________________________________________\n",
            "c_re_lu_17 (CReLU)                               (None, None, None, 16)           0                 conv2d_17[0][0]                                   \n",
            "______________________________________________________________________________________________________________________________________________________\n",
            "concatenate_3 (Concatenate)                      (None, None, None, 64)           0                 c_re_lu_14[0][0]                                  \n",
            "                                                                                                    c_re_lu_15[0][0]                                  \n",
            "                                                                                                    c_re_lu_16[0][0]                                  \n",
            "                                                                                                    c_re_lu_17[0][0]                                  \n",
            "______________________________________________________________________________________________________________________________________________________\n",
            "input_4 (InputLayer)                             [(None, None, None, 1)]          0                                                                   \n",
            "______________________________________________________________________________________________________________________________________________________\n",
            "conv_ups_resid (Conv2D)                          (None, None, None, 1)            577               concatenate_3[0][0]                               \n",
            "______________________________________________________________________________________________________________________________________________________\n",
            "up_sampling2d_1 (UpSampling2D)                   (None, None, None, 1)            0                 input_4[0][0]                                     \n",
            "______________________________________________________________________________________________________________________________________________________\n",
            "add_1 (Add)                                      (None, None, None, 1)            0                 conv_ups_resid[0][0]                              \n",
            "                                                                                                    up_sampling2d_1[0][0]                             \n",
            "======================================================================================================================================================\n",
            "Total params: 17,097\n",
            "Trainable params: 17,097\n",
            "Non-trainable params: 0\n",
            "______________________________________________________________________________________________________________________________________________________\n",
            "Model: \"ed_conv\"\n",
            "_________________________________________________________________\n",
            "Layer (type)                 Output Shape              Param #   \n",
            "=================================================================\n",
            "input_5 (InputLayer)         [(None, None, None, 1)]   0         \n",
            "_________________________________________________________________\n",
            "up_sampling2d_2 (UpSampling2 (None, None, None, 1)     0         \n",
            "=================================================================\n",
            "Total params: 0\n",
            "Trainable params: 0\n",
            "Non-trainable params: 0\n",
            "_________________________________________________________________\n"
          ],
          "name": "stdout"
        }
      ]
    },
    {
      "cell_type": "code",
      "metadata": {
        "id": "8KEJ_96LzOWd"
      },
      "source": [
        "model.compile(optimizer=Adam(), loss=loss)\r\n",
        "model_s.compile(optimizer=Adam(), loss=loss)"
      ],
      "execution_count": null,
      "outputs": []
    },
    {
      "cell_type": "code",
      "metadata": {
        "colab": {
          "base_uri": "https://localhost:8080/"
        },
        "id": "ekB4HZ_J0zPF",
        "outputId": "2dc5b459-cbde-4160-c65f-af844e52c3e3"
      },
      "source": [
        "model_log = model.fit(x=[x_train, x_train[...,0:1]], y=y_train, batch_size=16, epochs=60, validation_data=([x_valid, x_valid[...,0:1]], y_valid))"
      ],
      "execution_count": null,
      "outputs": [
        {
          "output_type": "stream",
          "text": [
            "Train on 1560 samples, validate on 50 samples\n",
            "Epoch 1/60\n",
            "1560/1560 [==============================] - 87s 56ms/sample - loss: 0.0022 - val_loss: 0.0022\n",
            "Epoch 2/60\n",
            "1560/1560 [==============================] - 71s 45ms/sample - loss: 0.0017 - val_loss: 0.0019\n",
            "Epoch 3/60\n",
            "1560/1560 [==============================] - 71s 45ms/sample - loss: 0.0016 - val_loss: 0.0018\n",
            "Epoch 4/60\n",
            "1560/1560 [==============================] - 71s 45ms/sample - loss: 0.0015 - val_loss: 0.0018\n",
            "Epoch 5/60\n",
            "1560/1560 [==============================] - 71s 45ms/sample - loss: 0.0015 - val_loss: 0.0017\n",
            "Epoch 6/60\n",
            "1560/1560 [==============================] - 71s 45ms/sample - loss: 0.0014 - val_loss: 0.0016\n",
            "Epoch 7/60\n",
            "1560/1560 [==============================] - 71s 45ms/sample - loss: 0.0014 - val_loss: 0.0016\n",
            "Epoch 8/60\n",
            "1560/1560 [==============================] - 71s 45ms/sample - loss: 0.0013 - val_loss: 0.0015\n",
            "Epoch 9/60\n",
            "1560/1560 [==============================] - 71s 45ms/sample - loss: 0.0013 - val_loss: 0.0015\n",
            "Epoch 10/60\n",
            "1560/1560 [==============================] - 71s 45ms/sample - loss: 0.0013 - val_loss: 0.0014\n",
            "Epoch 11/60\n",
            "1560/1560 [==============================] - 71s 45ms/sample - loss: 0.0012 - val_loss: 0.0014\n",
            "Epoch 12/60\n",
            "1560/1560 [==============================] - 71s 45ms/sample - loss: 0.0012 - val_loss: 0.0014\n",
            "Epoch 13/60\n",
            "1560/1560 [==============================] - 71s 45ms/sample - loss: 0.0012 - val_loss: 0.0013\n",
            "Epoch 14/60\n",
            "1560/1560 [==============================] - 71s 45ms/sample - loss: 0.0011 - val_loss: 0.0013\n",
            "Epoch 15/60\n",
            "1560/1560 [==============================] - 71s 45ms/sample - loss: 0.0011 - val_loss: 0.0013\n",
            "Epoch 16/60\n",
            "1560/1560 [==============================] - 71s 45ms/sample - loss: 0.0011 - val_loss: 0.0013\n",
            "Epoch 17/60\n",
            "1560/1560 [==============================] - 71s 45ms/sample - loss: 0.0011 - val_loss: 0.0013\n",
            "Epoch 18/60\n",
            "1560/1560 [==============================] - 71s 45ms/sample - loss: 0.0011 - val_loss: 0.0012\n",
            "Epoch 19/60\n",
            "1560/1560 [==============================] - 71s 45ms/sample - loss: 0.0010 - val_loss: 0.0012\n",
            "Epoch 20/60\n",
            "1560/1560 [==============================] - 71s 45ms/sample - loss: 0.0010 - val_loss: 0.0012\n",
            "Epoch 21/60\n",
            "1560/1560 [==============================] - 71s 45ms/sample - loss: 0.0010 - val_loss: 0.0012\n",
            "Epoch 22/60\n",
            "1560/1560 [==============================] - 71s 45ms/sample - loss: 0.0010 - val_loss: 0.0012\n",
            "Epoch 23/60\n",
            "1560/1560 [==============================] - 71s 45ms/sample - loss: 9.8921e-04 - val_loss: 0.0012\n",
            "Epoch 24/60\n",
            "1560/1560 [==============================] - 71s 45ms/sample - loss: 9.7947e-04 - val_loss: 0.0011\n",
            "Epoch 25/60\n",
            "1560/1560 [==============================] - 71s 45ms/sample - loss: 0.0010 - val_loss: 0.0012\n",
            "Epoch 26/60\n",
            "1560/1560 [==============================] - 71s 45ms/sample - loss: 9.5640e-04 - val_loss: 0.0011\n",
            "Epoch 27/60\n",
            "1560/1560 [==============================] - 71s 45ms/sample - loss: 9.4507e-04 - val_loss: 0.0011\n",
            "Epoch 28/60\n",
            "1560/1560 [==============================] - 71s 45ms/sample - loss: 9.3948e-04 - val_loss: 0.0011\n",
            "Epoch 29/60\n",
            "1560/1560 [==============================] - 71s 45ms/sample - loss: 9.2646e-04 - val_loss: 0.0011\n",
            "Epoch 30/60\n",
            "1560/1560 [==============================] - 71s 45ms/sample - loss: 9.2520e-04 - val_loss: 0.0011\n",
            "Epoch 31/60\n",
            "1560/1560 [==============================] - 71s 45ms/sample - loss: 9.1066e-04 - val_loss: 0.0011\n",
            "Epoch 32/60\n",
            "1560/1560 [==============================] - 71s 45ms/sample - loss: 9.0309e-04 - val_loss: 0.0011\n",
            "Epoch 33/60\n",
            "1560/1560 [==============================] - 71s 45ms/sample - loss: 8.9770e-04 - val_loss: 0.0010\n",
            "Epoch 34/60\n",
            "1560/1560 [==============================] - 71s 45ms/sample - loss: 8.8755e-04 - val_loss: 0.0010\n",
            "Epoch 35/60\n",
            "1560/1560 [==============================] - 71s 45ms/sample - loss: 8.8470e-04 - val_loss: 0.0010\n",
            "Epoch 36/60\n",
            "1560/1560 [==============================] - 71s 45ms/sample - loss: 8.7681e-04 - val_loss: 0.0010\n",
            "Epoch 37/60\n",
            "1560/1560 [==============================] - 71s 45ms/sample - loss: 8.7482e-04 - val_loss: 0.0010\n",
            "Epoch 38/60\n",
            "1560/1560 [==============================] - 71s 45ms/sample - loss: 8.6747e-04 - val_loss: 0.0010\n",
            "Epoch 39/60\n",
            "1560/1560 [==============================] - 71s 45ms/sample - loss: 8.6513e-04 - val_loss: 0.0010\n",
            "Epoch 40/60\n",
            "1560/1560 [==============================] - 71s 45ms/sample - loss: 8.5610e-04 - val_loss: 0.0010\n",
            "Epoch 41/60\n",
            "1560/1560 [==============================] - 71s 45ms/sample - loss: 8.5115e-04 - val_loss: 9.9804e-04\n",
            "Epoch 42/60\n",
            "1560/1560 [==============================] - 71s 45ms/sample - loss: 8.4990e-04 - val_loss: 0.0010\n",
            "Epoch 43/60\n",
            "1560/1560 [==============================] - 71s 45ms/sample - loss: 8.5131e-04 - val_loss: 0.0010\n",
            "Epoch 44/60\n",
            "1560/1560 [==============================] - 71s 45ms/sample - loss: 8.4081e-04 - val_loss: 0.0010\n",
            "Epoch 45/60\n",
            "1560/1560 [==============================] - 71s 45ms/sample - loss: 8.4035e-04 - val_loss: 9.7759e-04\n",
            "Epoch 46/60\n",
            "1560/1560 [==============================] - 71s 45ms/sample - loss: 8.3435e-04 - val_loss: 9.7972e-04\n",
            "Epoch 47/60\n",
            "1560/1560 [==============================] - 71s 45ms/sample - loss: 8.2802e-04 - val_loss: 9.9484e-04\n",
            "Epoch 48/60\n",
            "1560/1560 [==============================] - 71s 45ms/sample - loss: 8.2703e-04 - val_loss: 9.6641e-04\n",
            "Epoch 49/60\n",
            "1560/1560 [==============================] - 71s 45ms/sample - loss: 8.2044e-04 - val_loss: 9.5856e-04\n",
            "Epoch 50/60\n",
            "1560/1560 [==============================] - 71s 45ms/sample - loss: 8.1672e-04 - val_loss: 9.7201e-04\n",
            "Epoch 51/60\n",
            "1560/1560 [==============================] - 71s 45ms/sample - loss: 8.1861e-04 - val_loss: 9.6538e-04\n",
            "Epoch 52/60\n",
            "1560/1560 [==============================] - 71s 45ms/sample - loss: 8.1221e-04 - val_loss: 9.6210e-04\n",
            "Epoch 53/60\n",
            "1560/1560 [==============================] - 71s 45ms/sample - loss: 8.1084e-04 - val_loss: 9.6175e-04\n",
            "Epoch 54/60\n",
            "1560/1560 [==============================] - 71s 45ms/sample - loss: 8.0978e-04 - val_loss: 9.5182e-04\n",
            "Epoch 55/60\n",
            "1560/1560 [==============================] - 71s 45ms/sample - loss: 8.0146e-04 - val_loss: 9.4670e-04\n",
            "Epoch 56/60\n",
            "1560/1560 [==============================] - 71s 45ms/sample - loss: 8.0421e-04 - val_loss: 9.5961e-04\n",
            "Epoch 57/60\n",
            "1560/1560 [==============================] - 71s 45ms/sample - loss: 7.9821e-04 - val_loss: 9.3810e-04\n",
            "Epoch 58/60\n",
            "1560/1560 [==============================] - 71s 45ms/sample - loss: 7.9381e-04 - val_loss: 9.4200e-04\n",
            "Epoch 59/60\n",
            "1560/1560 [==============================] - 71s 45ms/sample - loss: 7.9769e-04 - val_loss: 9.3627e-04\n",
            "Epoch 60/60\n",
            "1560/1560 [==============================] - 71s 45ms/sample - loss: 7.9237e-04 - val_loss: 9.3369e-04\n"
          ],
          "name": "stdout"
        }
      ]
    },
    {
      "cell_type": "code",
      "metadata": {
        "colab": {
          "base_uri": "https://localhost:8080/"
        },
        "id": "j-re-f7hhiCH",
        "outputId": "32b47cce-05d5-4df1-8e8f-dbfa7266eb5d"
      },
      "source": [
        "model_s_log = model_s.fit(x=[x_train[...,0:1], x_train[...,0:1]], y=y_train, batch_size=16, epochs=60, validation_data=([x_valid[...,0:1], x_valid[...,0:1]], y_valid))"
      ],
      "execution_count": null,
      "outputs": [
        {
          "output_type": "stream",
          "text": [
            "Train on 1560 samples, validate on 50 samples\n",
            "Epoch 1/60\n",
            "1560/1560 [==============================] - 80s 51ms/sample - loss: 0.0026 - val_loss: 0.0023\n",
            "Epoch 2/60\n",
            "1560/1560 [==============================] - 79s 51ms/sample - loss: 0.0019 - val_loss: 0.0022\n",
            "Epoch 3/60\n",
            "1560/1560 [==============================] - 79s 51ms/sample - loss: 0.0018 - val_loss: 0.0020\n",
            "Epoch 4/60\n",
            "1560/1560 [==============================] - 79s 51ms/sample - loss: 0.0017 - val_loss: 0.0019\n",
            "Epoch 5/60\n",
            "1560/1560 [==============================] - 79s 51ms/sample - loss: 0.0017 - val_loss: 0.0019\n",
            "Epoch 6/60\n",
            "1560/1560 [==============================] - 79s 51ms/sample - loss: 0.0017 - val_loss: 0.0019\n",
            "Epoch 7/60\n",
            "1560/1560 [==============================] - 79s 51ms/sample - loss: 0.0016 - val_loss: 0.0019\n",
            "Epoch 8/60\n",
            "1560/1560 [==============================] - 79s 51ms/sample - loss: 0.0016 - val_loss: 0.0018\n",
            "Epoch 9/60\n",
            "1560/1560 [==============================] - 79s 51ms/sample - loss: 0.0016 - val_loss: 0.0018\n",
            "Epoch 10/60\n",
            "1560/1560 [==============================] - 79s 51ms/sample - loss: 0.0016 - val_loss: 0.0018\n",
            "Epoch 11/60\n",
            "1560/1560 [==============================] - 79s 51ms/sample - loss: 0.0016 - val_loss: 0.0018\n",
            "Epoch 12/60\n",
            "1560/1560 [==============================] - 79s 51ms/sample - loss: 0.0016 - val_loss: 0.0018\n",
            "Epoch 13/60\n",
            "1560/1560 [==============================] - 79s 51ms/sample - loss: 0.0015 - val_loss: 0.0018\n",
            "Epoch 14/60\n",
            "1560/1560 [==============================] - 79s 51ms/sample - loss: 0.0015 - val_loss: 0.0017\n",
            "Epoch 15/60\n",
            "1560/1560 [==============================] - 79s 51ms/sample - loss: 0.0015 - val_loss: 0.0017\n",
            "Epoch 16/60\n",
            "1560/1560 [==============================] - 79s 51ms/sample - loss: 0.0015 - val_loss: 0.0017\n",
            "Epoch 17/60\n",
            "1560/1560 [==============================] - 79s 51ms/sample - loss: 0.0015 - val_loss: 0.0017\n",
            "Epoch 18/60\n",
            "1560/1560 [==============================] - 79s 51ms/sample - loss: 0.0015 - val_loss: 0.0017\n",
            "Epoch 19/60\n",
            "1560/1560 [==============================] - 79s 51ms/sample - loss: 0.0015 - val_loss: 0.0017\n",
            "Epoch 20/60\n",
            "1560/1560 [==============================] - 79s 51ms/sample - loss: 0.0015 - val_loss: 0.0017\n",
            "Epoch 21/60\n",
            "1560/1560 [==============================] - 79s 51ms/sample - loss: 0.0015 - val_loss: 0.0017\n",
            "Epoch 22/60\n",
            "1560/1560 [==============================] - 79s 51ms/sample - loss: 0.0015 - val_loss: 0.0017\n",
            "Epoch 23/60\n",
            "1560/1560 [==============================] - 79s 51ms/sample - loss: 0.0015 - val_loss: 0.0017\n",
            "Epoch 24/60\n",
            "1560/1560 [==============================] - 79s 51ms/sample - loss: 0.0015 - val_loss: 0.0017\n",
            "Epoch 25/60\n",
            "1560/1560 [==============================] - 79s 51ms/sample - loss: 0.0015 - val_loss: 0.0017\n",
            "Epoch 26/60\n",
            "1560/1560 [==============================] - 79s 51ms/sample - loss: 0.0015 - val_loss: 0.0017\n",
            "Epoch 27/60\n",
            "1560/1560 [==============================] - 79s 51ms/sample - loss: 0.0015 - val_loss: 0.0017\n",
            "Epoch 28/60\n",
            "1560/1560 [==============================] - 79s 51ms/sample - loss: 0.0015 - val_loss: 0.0017\n",
            "Epoch 29/60\n",
            "1560/1560 [==============================] - 79s 51ms/sample - loss: 0.0015 - val_loss: 0.0017\n",
            "Epoch 30/60\n",
            "1560/1560 [==============================] - 79s 51ms/sample - loss: 0.0015 - val_loss: 0.0017\n",
            "Epoch 31/60\n",
            "1560/1560 [==============================] - 79s 51ms/sample - loss: 0.0015 - val_loss: 0.0017\n",
            "Epoch 32/60\n",
            "1560/1560 [==============================] - 79s 51ms/sample - loss: 0.0015 - val_loss: 0.0016\n",
            "Epoch 33/60\n",
            "1560/1560 [==============================] - 79s 50ms/sample - loss: 0.0015 - val_loss: 0.0016\n",
            "Epoch 34/60\n",
            "1560/1560 [==============================] - 79s 51ms/sample - loss: 0.0014 - val_loss: 0.0016\n",
            "Epoch 35/60\n",
            "1560/1560 [==============================] - 79s 51ms/sample - loss: 0.0014 - val_loss: 0.0017\n",
            "Epoch 36/60\n",
            "1560/1560 [==============================] - 79s 51ms/sample - loss: 0.0014 - val_loss: 0.0016\n",
            "Epoch 37/60\n",
            "1560/1560 [==============================] - 79s 51ms/sample - loss: 0.0014 - val_loss: 0.0016\n",
            "Epoch 38/60\n",
            "1560/1560 [==============================] - 79s 51ms/sample - loss: 0.0015 - val_loss: 0.0016\n",
            "Epoch 39/60\n",
            "1560/1560 [==============================] - 79s 51ms/sample - loss: 0.0014 - val_loss: 0.0016\n",
            "Epoch 40/60\n",
            "1560/1560 [==============================] - 79s 51ms/sample - loss: 0.0014 - val_loss: 0.0016\n",
            "Epoch 41/60\n",
            "1560/1560 [==============================] - 79s 51ms/sample - loss: 0.0014 - val_loss: 0.0017\n",
            "Epoch 42/60\n",
            "1560/1560 [==============================] - 79s 50ms/sample - loss: 0.0014 - val_loss: 0.0016\n",
            "Epoch 43/60\n",
            "1560/1560 [==============================] - 79s 51ms/sample - loss: 0.0014 - val_loss: 0.0016\n",
            "Epoch 44/60\n",
            "1560/1560 [==============================] - 79s 51ms/sample - loss: 0.0014 - val_loss: 0.0016\n",
            "Epoch 45/60\n",
            "1560/1560 [==============================] - 79s 51ms/sample - loss: 0.0014 - val_loss: 0.0016\n",
            "Epoch 46/60\n",
            "1560/1560 [==============================] - 79s 51ms/sample - loss: 0.0014 - val_loss: 0.0016\n",
            "Epoch 47/60\n",
            "1560/1560 [==============================] - 79s 50ms/sample - loss: 0.0014 - val_loss: 0.0016\n",
            "Epoch 48/60\n",
            "1560/1560 [==============================] - 79s 51ms/sample - loss: 0.0014 - val_loss: 0.0016\n",
            "Epoch 49/60\n",
            "1560/1560 [==============================] - 79s 51ms/sample - loss: 0.0014 - val_loss: 0.0016\n",
            "Epoch 50/60\n",
            "1560/1560 [==============================] - 79s 51ms/sample - loss: 0.0014 - val_loss: 0.0016\n",
            "Epoch 51/60\n",
            "1560/1560 [==============================] - 79s 51ms/sample - loss: 0.0014 - val_loss: 0.0016\n",
            "Epoch 52/60\n",
            "1560/1560 [==============================] - 79s 51ms/sample - loss: 0.0014 - val_loss: 0.0016\n",
            "Epoch 53/60\n",
            "1560/1560 [==============================] - 79s 51ms/sample - loss: 0.0014 - val_loss: 0.0016\n",
            "Epoch 54/60\n",
            "1560/1560 [==============================] - 79s 50ms/sample - loss: 0.0014 - val_loss: 0.0016\n",
            "Epoch 55/60\n",
            "1560/1560 [==============================] - 79s 51ms/sample - loss: 0.0014 - val_loss: 0.0016\n",
            "Epoch 56/60\n",
            "1560/1560 [==============================] - 79s 51ms/sample - loss: 0.0014 - val_loss: 0.0016\n",
            "Epoch 57/60\n",
            "1560/1560 [==============================] - 79s 51ms/sample - loss: 0.0014 - val_loss: 0.0016\n",
            "Epoch 58/60\n",
            "1560/1560 [==============================] - 79s 51ms/sample - loss: 0.0014 - val_loss: 0.0016\n",
            "Epoch 59/60\n",
            "1560/1560 [==============================] - 79s 51ms/sample - loss: 0.0014 - val_loss: 0.0016\n",
            "Epoch 60/60\n",
            "1560/1560 [==============================] - 79s 51ms/sample - loss: 0.0014 - val_loss: 0.0016\n"
          ],
          "name": "stdout"
        }
      ]
    },
    {
      "cell_type": "code",
      "metadata": {
        "id": "HjFARg3G86HC"
      },
      "source": [
        "model.save_weights('/content/gdrive/My Drive/SINTEL_SR/model_multi-s.hdf5')\r\n",
        "model_s.save_weights('/content/gdrive/My Drive/SINTEL_SR/model_single-s.hdf5')"
      ],
      "execution_count": null,
      "outputs": []
    },
    {
      "cell_type": "code",
      "metadata": {
        "id": "Zrz3jjFWuc9_"
      },
      "source": [
        "model.load_weights('/content/gdrive/My Drive/SINTEL_SR/model_multi-s.hdf5')\r\n",
        "model_s.load_weights('/content/gdrive/My Drive/SINTEL_SR/model_single-s.hdf5')"
      ],
      "execution_count": null,
      "outputs": []
    },
    {
      "cell_type": "code",
      "metadata": {
        "id": "i4n4IX9wBbSA"
      },
      "source": [
        "import PIL"
      ],
      "execution_count": null,
      "outputs": []
    },
    {
      "cell_type": "code",
      "metadata": {
        "id": "42_iwQdUUiS5"
      },
      "source": [
        "for midx in range(50):\r\n",
        "    bpredy = model_bil.predict(x_test[midx:midx+1,:,:,0:1])\r\n",
        "    PIL.Image.fromarray(np.clip(bpredy[0,:,:,0]*255, 0, 255).astype(np.uint8)).save(\"results/\"+str(midx)+\"_LR.png\")\r\n",
        "    bpredy = model_s.predict([x_test[midx:midx+1,:,:,0:1], x_test[midx:midx+1,:,:,0:1]])\r\n",
        "    PIL.Image.fromarray(np.clip(bpredy[0,:,:,0]*255, 0, 255).astype(np.uint8)).save(\"results/\"+str(midx)+\"_SR_s.png\")\r\n",
        "    bpredy = model.predict([x_test[midx:midx+1], x_test[midx:midx+1,:,:,0:1]])\r\n",
        "    PIL.Image.fromarray(np.clip(bpredy[0,:,:,0]*255, 0, 255).astype(np.uint8)).save(\"results/\"+str(midx)+\"_SR_m.png\")\r\n",
        "    PIL.Image.fromarray(np.clip(y_test[midx,:,:,0]*255, 0, 255).astype(np.uint8)).save(\"results/\"+str(midx)+\"_HR.png\")"
      ],
      "execution_count": null,
      "outputs": []
    },
    {
      "cell_type": "code",
      "metadata": {
        "id": "6UEwkFo6VRiD"
      },
      "source": [
        "!zip -r results.zip results/"
      ],
      "execution_count": null,
      "outputs": []
    },
    {
      "cell_type": "code",
      "metadata": {
        "id": "f--B7_Wwg4mV"
      },
      "source": [
        "midx = 0\r\n",
        "figsize = (20, 20)\r\n",
        "plt.figure(figsize=figsize)\r\n",
        "plt.imshow(np.clip(x_test[midx,:,:,0]*255, 0, 255).astype(np.uint8), cmap='gray', vmin=0, vmax=255)\r\n",
        "PIL.Image.fromarray(np.clip(x_test[midx,:,:,0]*255, 0, 255).astype(np.uint8)).save(str(midx)+\"_LR.png\")\r\n",
        "plt.show()"
      ],
      "execution_count": null,
      "outputs": []
    },
    {
      "cell_type": "code",
      "metadata": {
        "id": "l0-b5fG7swBu"
      },
      "source": [
        "bpredy = model_s.predict([x_test[midx:midx+1,:,:,0:1], x_test[midx:midx+1,:,:,0:1]])\r\n",
        "plt.figure(figsize=figsize)\r\n",
        "plt.imshow(np.clip(bpredy[0,:,:,0]*255, 0, 255).astype(np.uint8), cmap='gray', vmin=0, vmax=255)\r\n",
        "PIL.Image.fromarray(np.clip(bpredy[0,:,:,0]*255, 0, 255).astype(np.uint8)).save(str(midx)+\"_SR_s.png\")\r\n",
        "plt.show()"
      ],
      "execution_count": null,
      "outputs": []
    },
    {
      "cell_type": "code",
      "metadata": {
        "id": "gG9QMwT51ZA4"
      },
      "source": [
        "bpredy = model.predict([x_test[midx:midx+1], x_test[midx:midx+1,:,:,0:1]])\r\n",
        "plt.figure(figsize=figsize)\r\n",
        "plt.imshow(np.clip(bpredy[0,:,:,0]*255, 0, 255).astype(np.uint8), cmap='gray', vmin=0, vmax=255)\r\n",
        "PIL.Image.fromarray(np.clip(bpredy[0,:,:,0]*255, 0, 255).astype(np.uint8)).save(str(midx)+\"_SR_m.png\")\r\n",
        "plt.show()"
      ],
      "execution_count": null,
      "outputs": []
    },
    {
      "cell_type": "code",
      "metadata": {
        "id": "wly4Mi7cdET7"
      },
      "source": [
        "bpredy = model.predict([np.concatenate([x_test[midx:midx+1,:,:,:5],x_test[midx:midx+1,:,:,5:]*0], axis=-1), x_test[midx:midx+1,:,:,0:1]])\r\n",
        "plt.figure(figsize=figsize)\r\n",
        "plt.imshow(np.clip(bpredy[0,:,:,0]*255, 0, 255).astype(np.uint8), cmap='gray', vmin=0, vmax=255)\r\n",
        "PIL.Image.fromarray(np.clip(bpredy[0,:,:,0]*255, 0, 255).astype(np.uint8)).save(str(midx)+\"_SR_m_d5.png\")\r\n",
        "plt.show()"
      ],
      "execution_count": null,
      "outputs": []
    },
    {
      "cell_type": "code",
      "metadata": {
        "id": "9G15ct4Ad3r0"
      },
      "source": [
        "for i in range(9):\r\n",
        "    bpredy = model.predict([np.concatenate([x_test[midx:midx+1,:,:,:i],x_test[midx:midx+1,:,:,i:]*0], axis=-1), x_test[midx:midx+1,:,:,0:1]])\r\n",
        "    PIL.Image.fromarray(np.clip(bpredy[0,:,:,0]*255, 0, 255).astype(np.uint8)).save(str(midx)+\"_SR_m_d\"+str(i)+\".png\")"
      ],
      "execution_count": null,
      "outputs": []
    },
    {
      "cell_type": "code",
      "metadata": {
        "id": "Q_1vFyuNdt-C"
      },
      "source": [
        "bpredy = model.predict([np.concatenate([x_test[midx:midx+1,:,:,:1],x_test[midx:midx+1,:,:,1:]*0], axis=-1), x_test[midx:midx+1,:,:,0:1]])\r\n",
        "plt.figure(figsize=figsize)\r\n",
        "plt.imshow(np.clip(bpredy[0,:,:,0]*255, 0, 255).astype(np.uint8), cmap='gray', vmin=0, vmax=255)\r\n",
        "PIL.Image.fromarray(np.clip(bpredy[0,:,:,0]*255, 0, 255).astype(np.uint8)).save(str(midx)+\"_SR_m_d1.png\")\r\n",
        "plt.show()"
      ],
      "execution_count": null,
      "outputs": []
    },
    {
      "cell_type": "code",
      "metadata": {
        "id": "grapUUZ0g4Fz"
      },
      "source": [
        "plt.figure(figsize=figsize)\r\n",
        "plt.imshow(np.clip(y_test[midx,:,:,0]*255, 0, 255).astype(np.uint8), cmap='gray', vmin=0, vmax=255)\r\n",
        "PIL.Image.fromarray(np.clip(y_test[midx,:,:,0]*255, 0, 255).astype(np.uint8)).save(str(midx)+\"_HR.png\")\r\n",
        "plt.show()"
      ],
      "execution_count": null,
      "outputs": []
    },
    {
      "cell_type": "code",
      "metadata": {
        "colab": {
          "base_uri": "https://localhost:8080/"
        },
        "id": "Iq2IYpGV9GGZ",
        "outputId": "de485766-ed4c-4bd9-a3d0-b4bb198f2db7"
      },
      "source": [
        "print(model_log.history[\"loss\"])\r\n",
        "print(model_log.history[\"val_loss\"])"
      ],
      "execution_count": null,
      "outputs": [
        {
          "output_type": "stream",
          "text": [
            "[0.00216628607446089, 0.0017393825730929772, 0.0016085513306256288, 0.0015411925388691134, 0.0014842524276807523, 0.001428673658758784, 0.0013784582828147672, 0.0013291466664761688, 0.001287824967995477, 0.0012576823409360188, 0.0012210762737175592, 0.0011938380558067598, 0.0011681487915129998, 0.0011460833144015992, 0.0011257214053796653, 0.0011112805205182388, 0.0010842041966194907, 0.0010685791768945564, 0.0010476623793156483, 0.0010339895555845056, 0.0010190701031555923, 0.0010026451898738741, 0.0009892069209271517, 0.0009794658954398563, 0.0010037395058390803, 0.0009564036584029404, 0.0009450678952420369, 0.0009394771443345608, 0.0009264639632489819, 0.0009252011107328611, 0.0009106636187658669, 0.0009030870024640209, 0.0008976955268269357, 0.0008875525335614115, 0.0008846956108195278, 0.0008768103601864706, 0.0008748249001562213, 0.0008674687523848544, 0.000865127685933541, 0.0008560982049227907, 0.0008511531483143186, 0.0008499015122652054, 0.0008513066654977126, 0.000840814794616726, 0.0008403531675680708, 0.0008343535242602229, 0.0008280177066365304, 0.0008270252776594881, 0.0008204415962935832, 0.0008167218897515573, 0.000818609425989099, 0.0008122124622623699, 0.0008108359988396748, 0.0008097814028867735, 0.0008014592058502902, 0.0008042101628887348, 0.000798211026733789, 0.0007938109383058662, 0.0007976913164990644, 0.0007923706924208464]\n",
            "[0.002176793133839965, 0.0019164943182840943, 0.0018380086170509458, 0.0017557408288121224, 0.001686232341453433, 0.00163415240123868, 0.0015704293502494693, 0.001511635985225439, 0.0014882790390402078, 0.0014425962278619409, 0.0013873214554041625, 0.001376785645261407, 0.0013405367732048034, 0.0013119497941806912, 0.0013061735732480884, 0.0012675821292214096, 0.0012701257131993771, 0.001220499100163579, 0.0011955845914781093, 0.0012130269920453429, 0.0011702644824981689, 0.001151194553822279, 0.0011511680530384182, 0.0011273721512407063, 0.0011608164338395, 0.0011221086978912354, 0.001114107365719974, 0.0010931121790781616, 0.0010877455305308105, 0.0010955134755931794, 0.001094499221071601, 0.001054228344000876, 0.0010437207110226155, 0.0010488323331810535, 0.0010298397205770016, 0.0010235770558938385, 0.001040605315938592, 0.0010258271964266896, 0.0010080231446772815, 0.0010065490077249706, 0.0009980445681139827, 0.0010071088559925555, 0.0010100930370390414, 0.0010044523607939482, 0.0009775949455797673, 0.0009797153994441032, 0.0009948388673365117, 0.0009664105321280658, 0.0009585568122565747, 0.0009720116341486574, 0.0009653813811019063, 0.0009620966366492211, 0.0009617540007457137, 0.0009518201067112386, 0.0009467009222134948, 0.0009596084407530725, 0.0009380954364314676, 0.0009420039248652756, 0.0009362665237858892, 0.0009336878824979067]\n"
          ],
          "name": "stdout"
        }
      ]
    },
    {
      "cell_type": "code",
      "metadata": {
        "id": "3BchYTFcROoC",
        "colab": {
          "base_uri": "https://localhost:8080/"
        },
        "outputId": "9534c167-f30a-4bf0-ab1a-b8d0b7f89e1d"
      },
      "source": [
        "print(model_s_log.history[\"loss\"])\r\n",
        "print(model_s_log.history[\"val_loss\"])"
      ],
      "execution_count": null,
      "outputs": [
        {
          "output_type": "stream",
          "text": [
            "[0.002635876157989678, 0.0019136794520398744, 0.0017695654028405746, 0.0017234613390591665, 0.0017064526354750762, 0.0016673870145892486, 0.0016429694578385889, 0.0016239386577254686, 0.0016145886447376165, 0.001592527100076087, 0.001571402384732396, 0.0015581433888142689, 0.0015494108516484117, 0.001539773637882601, 0.0015284562728200585, 0.0015244552626823768, 0.0015140512140276723, 0.0015143943395322331, 0.0015024533005765616, 0.0015009599755733058, 0.0014916685248653476, 0.0014866538966695467, 0.0014840390073517576, 0.0014798897399137226, 0.001475966961767811, 0.0014788024067783202, 0.0014680498954243004, 0.0014667536979779984, 0.0014632923044980719, 0.0014598038578883578, 0.0014693650906571212, 0.0014521650134179836, 0.0014502507980721883, 0.0014493966272148566, 0.0014461973962636712, 0.0014461237346180356, 0.0014400689223876748, 0.0014543913510771324, 0.0014360574987502053, 0.0014339274255176766, 0.0014337951299519492, 0.0014383787271351769, 0.0014305738965049385, 0.0014370170642788976, 0.0014259586445032023, 0.0014228400356398943, 0.0014206427286785, 0.0014193623780440062, 0.0014231994670505326, 0.0014192541141827136, 0.0014208386765601926, 0.0014132914234860202, 0.0014113483795275292, 0.001411960286518129, 0.0014129061275758804, 0.0014146447999593922, 0.0014062097215523513, 0.0014061309044989638, 0.0014153791663165276, 0.0014020941441114515]\n",
            "[0.0023403116408735516, 0.0021713518537580965, 0.0019781523663550617, 0.0019423650112003088, 0.0019177467562258243, 0.001882497202605009, 0.0018566143978387118, 0.0018327205907553434, 0.0018325572181493045, 0.0017961108894087375, 0.0017792058188933878, 0.001764956535771489, 0.0017522799782454968, 0.001741915293969214, 0.0017349732294678689, 0.0017266687098890542, 0.0017163432762026787, 0.0017282066773623228, 0.0017031772108748555, 0.0016996083175763487, 0.0016914993152022362, 0.0016859932616353035, 0.0016830037534236908, 0.001679264516569674, 0.0016730587650090455, 0.00167003121227026, 0.0016649656929075718, 0.001674186266027391, 0.001657407588791102, 0.0016739527275785803, 0.001650734143331647, 0.0016481330245733262, 0.001646388270892203, 0.001641281982883811, 0.001650026449933648, 0.0016362630855292083, 0.001633107583038509, 0.0016323077958077191, 0.001628157147206366, 0.0016248514014296233, 0.001662547579035163, 0.001623841868713498, 0.0016292640753090381, 0.0016207359544932842, 0.0016161190113052725, 0.001613010591827333, 0.0016103128995746375, 0.0016101901652291416, 0.001613649744540453, 0.001611298704519868, 0.0016023659799247981, 0.0016007318440824747, 0.001600129040889442, 0.0015982186770997942, 0.0015975615638308227, 0.0015953699499368667, 0.0015922370506450533, 0.001604240955784917, 0.001590718263760209, 0.0015884194057434798]\n"
          ],
          "name": "stdout"
        }
      ]
    },
    {
      "cell_type": "code",
      "metadata": {
        "id": "mC5dwvlUjWVp"
      },
      "source": [
        "def mse(y, y_pred):\r\n",
        "    return np.mean((y - y_pred)**2)\r\n",
        "\r\n",
        "def psnr(y, y_pred):\r\n",
        "    return 10*np.log10(1/mse(y, y_pred))"
      ],
      "execution_count": null,
      "outputs": []
    },
    {
      "cell_type": "code",
      "metadata": {
        "colab": {
          "base_uri": "https://localhost:8080/"
        },
        "id": "BgY70E32lPUn",
        "outputId": "7c37e6ed-52c6-4609-9f70-86fd53c66157"
      },
      "source": [
        "print(\"M:\", mse(model.predict([x_test, x_test[:,:,:,0:1]]), y_test))\r\n",
        "print(\"S:\", mse(model_s.predict([x_test[:,:,:,0:1], x_test[:,:,:,0:1]]), y_test))"
      ],
      "execution_count": null,
      "outputs": [
        {
          "output_type": "stream",
          "text": [
            "M: 0.00090441474\n",
            "S: 0.0016531938\n"
          ],
          "name": "stdout"
        }
      ]
    },
    {
      "cell_type": "code",
      "metadata": {
        "colab": {
          "base_uri": "https://localhost:8080/"
        },
        "id": "-3SWaQjXmFrj",
        "outputId": "d9f0b6bc-3450-4f5c-e72a-841af57c2af7"
      },
      "source": [
        "print(\"M:\", psnr(model.predict([x_test, x_test[:,:,:,0:1]]), y_test))\r\n",
        "print(\"S:\", psnr(model_s.predict([x_test[:,:,:,0:1], x_test[:,:,:,0:1]]), y_test))"
      ],
      "execution_count": null,
      "outputs": [
        {
          "output_type": "stream",
          "text": [
            "M: 30.43632366009988\n",
            "S: 27.81676220198868\n"
          ],
          "name": "stdout"
        }
      ]
    },
    {
      "cell_type": "code",
      "metadata": {
        "colab": {
          "base_uri": "https://localhost:8080/"
        },
        "id": "ptmXymBaejKt",
        "outputId": "b3e9505f-a5a1-4f08-c25b-ecd14a643a1e"
      },
      "source": [
        "for i in range(9):\r\n",
        "    print(i, \"M:\", psnr(model.predict([np.concatenate([x_test[:,:,:,:i],x_test[:,:,:,i:]*0], axis=-1), x_test[:,:,:,0:1]]), y_test))"
      ],
      "execution_count": null,
      "outputs": [
        {
          "output_type": "stream",
          "text": [
            "0 M: 26.009136344123846\n",
            "1 M: 27.41327053232613\n",
            "2 M: 28.051565429955517\n",
            "3 M: 28.213430699473193\n",
            "4 M: 28.672523856137925\n",
            "5 M: 29.211990156471238\n",
            "6 M: 29.928810040265983\n",
            "7 M: 30.081713495021454\n",
            "8 M: 30.43632366009988\n"
          ],
          "name": "stdout"
        }
      ]
    },
    {
      "cell_type": "code",
      "metadata": {
        "id": "wFL_Uz5-e2O4"
      },
      "source": [
        ""
      ],
      "execution_count": null,
      "outputs": []
    }
  ]
}